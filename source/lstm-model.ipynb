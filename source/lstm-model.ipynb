{
 "cells": [
  {
   "cell_type": "markdown",
   "source": [
    "# LSTM Model\n",
    "## Imports"
   ],
   "metadata": {
    "collapsed": false
   }
  },
  {
   "cell_type": "code",
   "execution_count": 1,
   "outputs": [],
   "source": [
    "import pickle\n",
    "import numpy as np\n",
    "import torch\n",
    "import torch.nn as nn\n",
    "from dataloader import dataset, load_data\n",
    "from sklearn.model_selection import KFold\n",
    "from torch.utils.data import WeightedRandomSampler, SubsetRandomSampler, SequentialSampler"
   ],
   "metadata": {
    "collapsed": false,
    "pycharm": {
     "name": "#%%\n"
    }
   }
  },
  {
   "cell_type": "markdown",
   "source": [
    "## LSTM Model Design"
   ],
   "metadata": {
    "collapsed": false
   }
  },
  {
   "cell_type": "code",
   "execution_count": 2,
   "outputs": [],
   "source": [
    "class ReadmissionLSTM(nn.Module):\n",
    "    def __init__(self, input_size, input_len, hidden_size, dropout=0.5):\n",
    "        super(ReadmissionLSTM, self).__init__()\n",
    "        self.lstm = nn.LSTM(input_size,\n",
    "                            hidden_size,\n",
    "                            num_layers=3,\n",
    "                            batch_first=True,\n",
    "                            dropout=dropout,\n",
    "                            bidirectional=True)\n",
    "        self.fc = nn.Linear(2* input_len * hidden_size, 2)\n",
    "        self.softmax = nn.Softmax(dim=1)\n",
    "    def forward(self, x, masks):\n",
    "        batch_size, seq_len = x.shape[:2]\n",
    "        x = torch.reshape(x, (batch_size, seq_len, -1))\n",
    "        masks = torch.reshape(masks, (batch_size, seq_len, -1))\n",
    "        x, _ = self.lstm(x)\n",
    "        x = torch.flatten(x, start_dim=1)\n",
    "        x = self.fc(x)\n",
    "        out = self.softmax(x)\n",
    "        return out"
   ],
   "metadata": {
    "collapsed": false,
    "pycharm": {
     "name": "#%%\n"
    }
   }
  },
  {
   "cell_type": "code",
   "execution_count": 4,
   "outputs": [
    {
     "data": {
      "text/plain": "tensor([[0.5002, 0.4998],\n        [0.5252, 0.4748],\n        [0.5023, 0.4977],\n        [0.5040, 0.4960],\n        [0.5027, 0.4973],\n        [0.5123, 0.4877],\n        [0.5081, 0.4919],\n        [0.5182, 0.4818],\n        [0.5237, 0.4763],\n        [0.5159, 0.4841]], grad_fn=<SoftmaxBackward>)"
     },
     "execution_count": 4,
     "metadata": {},
     "output_type": "execute_result"
    }
   ],
   "source": [
    "# train_dl, val_dl = load_data(SequentialSampler(dataset), SequentialSampler(dataset), batch_size=10)\n",
    "# x, feats, masks, y = next(iter(train_dl))\n",
    "# model = ReadmissionLSTM(input_size=3926, input_len=48, hidden_size=128)\n",
    "# y_hat = model(x, masks)\n",
    "# y_hat"
   ],
   "metadata": {
    "collapsed": false,
    "pycharm": {
     "name": "#%%\n"
    }
   }
  },
  {
   "cell_type": "markdown",
   "source": [
    "## LSTM Training\n",
    "Define Training and Validation Functions\n",
    "adapted from: https://medium.com/dataseries/k-fold-cross-validation-with-pytorch-and-sklearn-d094aa00105f"
   ],
   "metadata": {
    "collapsed": false
   }
  },
  {
   "cell_type": "code",
   "execution_count": 3,
   "outputs": [],
   "source": [
    "def train_epoch(model, train_dataloader, optimizer, criterion):\n",
    "    train_loss, train_correct = 0.0, 0\n",
    "    train_false_pos, train_false_neg, train_true_pos, train_true_neg = 0.0, 0.0, 0.0, 0.0\n",
    "\n",
    "    model.train()\n",
    "\n",
    "    for x, feats, masks, y in train_dataloader:\n",
    "        optimizer.zero_grad()\n",
    "        y_hat = model(x, masks)\n",
    "        y_pred = torch.argmax(y_hat, dim=1)\n",
    "        loss = criterion(y_hat, y)\n",
    "        loss.backward()\n",
    "        optimizer.step()\n",
    "\n",
    "        train_loss += loss.item()\n",
    "        train_correct += (y_pred == y).sum().item()\n",
    "        train_false_pos += ((y_pred == 1) * (y == 0)).sum()\n",
    "        train_true_pos += ((y_pred == 1) * (y == 1)).sum()\n",
    "        train_false_neg += ((y_pred == 0) * (y == 1)).sum()\n",
    "        train_true_neg += ((y_pred == 0) * (y == 0)).sum()\n",
    "\n",
    "    return train_loss, train_correct, train_false_pos, train_false_neg, train_true_pos, train_true_neg\n",
    "\n",
    "def valid_epoch(model, valid_dataloader, criterion):\n",
    "    valid_loss, valid_correct = 0.0, 0\n",
    "    valid_false_pos, valid_false_neg, valid_true_pos, valid_true_neg = 0.0, 0.0, 0.0, 0.0\n",
    "\n",
    "    model.eval()\n",
    "\n",
    "    with torch.no_grad():\n",
    "        for x, feats, masks, y in valid_dataloader:\n",
    "            y_hat = model(x, masks)\n",
    "            y_pred = torch.argmax(y_hat, dim=1)\n",
    "            loss = criterion(y_hat, y)\n",
    "\n",
    "            valid_loss += loss.item()\n",
    "            valid_correct += (y_pred == y).sum().item()\n",
    "            valid_false_pos += ((y_pred == 1) * (y == 0)).sum()\n",
    "            valid_true_pos += ((y_pred == 1) * (y == 1)).sum()\n",
    "            valid_false_neg += ((y_pred == 0) * (y == 1)).sum()\n",
    "            valid_true_neg += ((y_pred == 0) * (y == 0)).sum()\n",
    "\n",
    "    return valid_loss, valid_correct, valid_false_pos, valid_false_neg, valid_true_pos, valid_true_neg\n",
    "\n",
    "def subset_weighted_random_sampler(dataset, idx):\n",
    "    labels = torch.tensor(dataset.y)\n",
    "    subset_labels = labels[idx]\n",
    "    majority_len = int((subset_labels == 0).sum())\n",
    "    minority_len = int((subset_labels == 1).sum())\n",
    "\n",
    "    dist = torch.zeros(len(dataset.y))\n",
    "    dist[idx] = 1\n",
    "    dist[labels == 1] = dist[labels == 1] * (0.5 / minority_len)\n",
    "    dist[labels == 0] = dist[labels == 0] * (0.5 / majority_len)\n",
    "\n",
    "    return WeightedRandomSampler(dist, num_samples=2 * majority_len, replacement=True)"
   ],
   "metadata": {
    "collapsed": false,
    "pycharm": {
     "name": "#%%\n"
    }
   }
  },
  {
   "cell_type": "markdown",
   "source": [
    "## K-Fold Cross Validation"
   ],
   "metadata": {
    "collapsed": false
   }
  },
  {
   "cell_type": "code",
   "execution_count": 4,
   "outputs": [],
   "source": [
    "def kfold(dataset=dataset, k_folds=2, n_epochs=10, batch_size=64):\n",
    "    history = {'train_loss': [], 'test_loss': [],'train_acc':[],'test_acc':[], 'train_tpr':[], 'test_tpr':[], 'train_fpr':[], 'test_fpr':[]}\n",
    "    kf = KFold(n_splits=k_folds, shuffle=True)\n",
    "    for fold, (train_idx, val_idx) in enumerate(kf.split(np.arange(len(dataset)))):\n",
    "        print('Fold {}'.format(fold + 1))\n",
    "\n",
    "        train_sampler = subset_weighted_random_sampler(dataset, train_idx)\n",
    "        test_sampler = subset_weighted_random_sampler(dataset, val_idx)\n",
    "        train_loader, test_loader = load_data(train_sampler, test_sampler, batch_size=batch_size)\n",
    "\n",
    "        model = ReadmissionLSTM(input_size=3926, input_len=48, hidden_size=256)\n",
    "        optimizer = torch.optim.Adam(model.parameters(), lr=0.002)\n",
    "        #criterion = FocalLoss(gamma=0.2, alpha=0.75)\n",
    "        criterion = nn.CrossEntropyLoss()\n",
    "\n",
    "        for epoch in range(n_epochs):\n",
    "            train_loss, train_correct, train_fpos, train_fneg, train_tpos, train_tneg = train_epoch(model, train_loader, optimizer, criterion)\n",
    "            test_loss, test_correct, test_fpos, test_fneg, test_tpos, test_tneg = valid_epoch(model, test_loader, criterion)\n",
    "\n",
    "            train_loss = train_loss / len(train_loader.sampler)\n",
    "            train_acc = train_correct / len(train_loader.sampler) * 100\n",
    "            test_loss = test_loss / len(test_loader.sampler)\n",
    "            test_acc = test_correct / len(test_loader.sampler) * 100\n",
    "            train_tpr = train_tpos / (train_tpos + train_fneg)\n",
    "            test_tpr = test_tpos / (test_tpos + test_fneg)\n",
    "            train_fpr = train_fpos / (train_fpos + train_tneg)\n",
    "            test_fpr = test_fpos / (test_fpos + test_tneg)\n",
    "\n",
    "            print(\"Epoch:{}/{} AVG Training Loss:{:.3f} AVG Test Loss:{:.3f} AVG Training Acc {:.2f} % AVG Test Acc {:.2f}%\".format(epoch + 1, n_epochs, train_loss, test_loss, train_acc, test_acc))\n",
    "            print(\"Epoch:{}/{} AVG Training TPR:{:.2f} AVG Test TPR:{:.2f} AVG Training FPR:{:.2f} AVG Test FPR:{:.2f}\".format(epoch + 1, n_epochs, train_tpr, test_tpr, train_fpr, train_fpr))\n",
    "            history['train_loss'].append(train_loss)\n",
    "            history['test_loss'].append(test_loss)\n",
    "            history['train_acc'].append(train_acc)\n",
    "            history['test_acc'].append(test_acc)\n",
    "            history['train_tpr'].append(train_tpr)\n",
    "            history['test_tpr'].append(test_tpr)\n",
    "            history['train_fpr'].append(train_fpr)\n",
    "            history['test_fpr'].append(test_fpr)\n",
    "\n",
    "\n",
    "    return history"
   ],
   "metadata": {
    "collapsed": false,
    "pycharm": {
     "name": "#%%\n"
    }
   }
  },
  {
   "cell_type": "code",
   "execution_count": 5,
   "outputs": [
    {
     "name": "stdout",
     "output_type": "stream",
     "text": [
      "Fold 1\n",
      "Epoch:1/10 AVG Training Loss:0.010 AVG Test Loss:0.012 AVG Training Acc 61.68 % AVG Test Acc 56.15%\n",
      "Epoch:1/10 AVG Training TPR:0.67 AVG Test TPR:0.33 AVG Training FPR:0.44 AVG Test FPR:0.44\n",
      "Epoch:2/10 AVG Training Loss:0.010 AVG Test Loss:0.011 AVG Training Acc 66.48 % AVG Test Acc 61.90%\n",
      "Epoch:2/10 AVG Training TPR:0.69 AVG Test TPR:0.57 AVG Training FPR:0.36 AVG Test FPR:0.36\n",
      "Epoch:3/10 AVG Training Loss:0.009 AVG Test Loss:0.011 AVG Training Acc 71.19 % AVG Test Acc 62.94%\n",
      "Epoch:3/10 AVG Training TPR:0.73 AVG Test TPR:0.51 AVG Training FPR:0.31 AVG Test FPR:0.31\n",
      "Epoch:4/10 AVG Training Loss:0.010 AVG Test Loss:0.011 AVG Training Acc 62.57 % AVG Test Acc 51.85%\n",
      "Epoch:4/10 AVG Training TPR:0.64 AVG Test TPR:0.63 AVG Training FPR:0.39 AVG Test FPR:0.39\n",
      "Epoch:5/10 AVG Training Loss:0.010 AVG Test Loss:0.011 AVG Training Acc 60.81 % AVG Test Acc 57.40%\n",
      "Epoch:5/10 AVG Training TPR:0.67 AVG Test TPR:0.65 AVG Training FPR:0.46 AVG Test FPR:0.46\n",
      "Epoch:6/10 AVG Training Loss:0.010 AVG Test Loss:0.010 AVG Training Acc 65.30 % AVG Test Acc 63.39%\n",
      "Epoch:6/10 AVG Training TPR:0.66 AVG Test TPR:0.56 AVG Training FPR:0.35 AVG Test FPR:0.35\n",
      "Epoch:7/10 AVG Training Loss:0.009 AVG Test Loss:0.011 AVG Training Acc 68.30 % AVG Test Acc 58.48%\n",
      "Epoch:7/10 AVG Training TPR:0.68 AVG Test TPR:0.65 AVG Training FPR:0.32 AVG Test FPR:0.32\n",
      "Epoch:8/10 AVG Training Loss:0.009 AVG Test Loss:0.011 AVG Training Acc 72.10 % AVG Test Acc 61.58%\n",
      "Epoch:8/10 AVG Training TPR:0.70 AVG Test TPR:0.59 AVG Training FPR:0.26 AVG Test FPR:0.26\n",
      "Epoch:9/10 AVG Training Loss:0.009 AVG Test Loss:0.011 AVG Training Acc 74.10 % AVG Test Acc 62.94%\n",
      "Epoch:9/10 AVG Training TPR:0.78 AVG Test TPR:0.43 AVG Training FPR:0.30 AVG Test FPR:0.30\n",
      "Epoch:10/10 AVG Training Loss:0.009 AVG Test Loss:0.011 AVG Training Acc 74.87 % AVG Test Acc 61.97%\n",
      "Epoch:10/10 AVG Training TPR:0.75 AVG Test TPR:0.52 AVG Training FPR:0.25 AVG Test FPR:0.25\n",
      "Fold 2\n",
      "Epoch:1/10 AVG Training Loss:0.012 AVG Test Loss:0.013 AVG Training Acc 54.84 % AVG Test Acc 50.34%\n",
      "Epoch:1/10 AVG Training TPR:0.70 AVG Test TPR:1.00 AVG Training FPR:0.60 AVG Test FPR:0.60\n",
      "Epoch:2/10 AVG Training Loss:0.013 AVG Test Loss:0.013 AVG Training Acc 50.69 % AVG Test Acc 49.45%\n",
      "Epoch:2/10 AVG Training TPR:1.00 AVG Test TPR:1.00 AVG Training FPR:1.00 AVG Test FPR:1.00\n",
      "Epoch:3/10 AVG Training Loss:0.013 AVG Test Loss:0.013 AVG Training Acc 50.45 % AVG Test Acc 50.01%\n",
      "Epoch:3/10 AVG Training TPR:1.00 AVG Test TPR:1.00 AVG Training FPR:1.00 AVG Test FPR:1.00\n",
      "Epoch:4/10 AVG Training Loss:0.013 AVG Test Loss:0.013 AVG Training Acc 50.00 % AVG Test Acc 50.22%\n",
      "Epoch:4/10 AVG Training TPR:1.00 AVG Test TPR:1.00 AVG Training FPR:1.00 AVG Test FPR:1.00\n",
      "Epoch:5/10 AVG Training Loss:0.013 AVG Test Loss:0.013 AVG Training Acc 49.59 % AVG Test Acc 51.07%\n",
      "Epoch:5/10 AVG Training TPR:0.60 AVG Test TPR:0.00 AVG Training FPR:0.61 AVG Test FPR:0.61\n",
      "Epoch:6/10 AVG Training Loss:0.013 AVG Test Loss:0.013 AVG Training Acc 50.26 % AVG Test Acc 51.15%\n",
      "Epoch:6/10 AVG Training TPR:0.00 AVG Test TPR:0.00 AVG Training FPR:0.00 AVG Test FPR:0.00\n",
      "Epoch:7/10 AVG Training Loss:0.013 AVG Test Loss:0.013 AVG Training Acc 48.78 % AVG Test Acc 50.60%\n",
      "Epoch:7/10 AVG Training TPR:0.00 AVG Test TPR:0.00 AVG Training FPR:0.00 AVG Test FPR:0.00\n",
      "Epoch:8/10 AVG Training Loss:0.013 AVG Test Loss:0.013 AVG Training Acc 50.84 % AVG Test Acc 50.49%\n",
      "Epoch:8/10 AVG Training TPR:0.00 AVG Test TPR:0.00 AVG Training FPR:0.00 AVG Test FPR:0.00\n",
      "Epoch:9/10 AVG Training Loss:0.013 AVG Test Loss:0.013 AVG Training Acc 49.89 % AVG Test Acc 49.61%\n",
      "Epoch:9/10 AVG Training TPR:0.00 AVG Test TPR:0.00 AVG Training FPR:0.00 AVG Test FPR:0.00\n",
      "Epoch:10/10 AVG Training Loss:0.013 AVG Test Loss:0.013 AVG Training Acc 49.89 % AVG Test Acc 49.57%\n",
      "Epoch:10/10 AVG Training TPR:0.00 AVG Test TPR:0.00 AVG Training FPR:0.00 AVG Test FPR:0.00\n",
      "CPU times: user 4h 4min 3s, sys: 3min 56s, total: 4h 8min\n",
      "Wall time: 4h 44s\n"
     ]
    }
   ],
   "source": [
    "%%time\n",
    "history = kfold()"
   ],
   "metadata": {
    "collapsed": false,
    "pycharm": {
     "name": "#%%\n"
    }
   }
  },
  {
   "cell_type": "markdown",
   "source": [
    "## Storing Results"
   ],
   "metadata": {
    "collapsed": false
   }
  },
  {
   "cell_type": "code",
   "execution_count": 6,
   "outputs": [],
   "source": [
    "with open(\"./lstm_model_history.pickle\", \"wb\") as f:\n",
    "    pickle.dump(history, f)"
   ],
   "metadata": {
    "collapsed": false,
    "pycharm": {
     "name": "#%%\n"
    }
   }
  }
 ],
 "metadata": {
  "kernelspec": {
   "display_name": "Python 3",
   "language": "python",
   "name": "python3"
  },
  "language_info": {
   "codemirror_mode": {
    "name": "ipython",
    "version": 2
   },
   "file_extension": ".py",
   "mimetype": "text/x-python",
   "name": "python",
   "nbconvert_exporter": "python",
   "pygments_lexer": "ipython2",
   "version": "2.7.6"
  }
 },
 "nbformat": 4,
 "nbformat_minor": 0
}